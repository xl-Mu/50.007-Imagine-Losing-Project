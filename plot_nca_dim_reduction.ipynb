{
  "cells": [
    {
      "cell_type": "code",
      "execution_count": 38,
      "metadata": {
        "collapsed": false
      },
      "outputs": [],
      "source": [
        "%matplotlib inline"
      ]
    },
    {
      "cell_type": "markdown",
      "metadata": {},
      "source": [
        "\n",
        "# Dimensionality Reduction with Neighborhood Components Analysis\n",
        "\n",
        "Sample usage of Neighborhood Components Analysis for dimensionality reduction.\n",
        "\n",
        "This example compares different (linear) dimensionality reduction methods\n",
        "applied on the Digits data set. The data set contains images of digits from\n",
        "0 to 9 with approximately 180 samples of each class. Each image is of\n",
        "dimension 8x8 = 64, and is reduced to a two-dimensional data point.\n",
        "\n",
        "Principal Component Analysis (PCA) applied to this data identifies the\n",
        "combination of attributes (principal components, or directions in the\n",
        "feature space) that account for the most variance in the data. Here we\n",
        "plot the different samples on the 2 first principal components.\n",
        "\n",
        "Linear Discriminant Analysis (LDA) tries to identify attributes that\n",
        "account for the most variance *between classes*. In particular,\n",
        "LDA, in contrast to PCA, is a supervised method, using known class labels.\n",
        "\n",
        "Neighborhood Components Analysis (NCA) tries to find a feature space such\n",
        "that a stochastic nearest neighbor algorithm will give the best accuracy.\n",
        "Like LDA, it is a supervised method.\n",
        "\n",
        "One can see that NCA enforces a clustering of the data that is visually\n",
        "meaningful despite the large reduction in dimension.\n"
      ]
    },
    {
      "cell_type": "code",
      "execution_count": 1,
      "metadata": {},
      "outputs": [],
      "source": [
        "import numpy as np\n",
        "import pandas as pd\n",
        "import matplotlib.pyplot as plt\n",
        "from sklearn import datasets\n",
        "from sklearn.model_selection import train_test_split\n",
        "from sklearn.decomposition import PCA\n",
        "from sklearn.discriminant_analysis import LinearDiscriminantAnalysis\n",
        "from sklearn.neighbors import KNeighborsClassifier, NeighborhoodComponentsAnalysis\n",
        "from sklearn.pipeline import make_pipeline\n",
        "from sklearn.preprocessing import StandardScaler"
      ]
    },
    {
      "cell_type": "code",
      "execution_count": 2,
      "metadata": {},
      "outputs": [],
      "source": [
        "# Load dataset\n",
        "df_train=pd.read_csv('csv/train_tfidf_features.csv');\n",
        "df_test=pd.read_csv('csv/test_tfidf_features.csv');"
      ]
    },
    {
      "cell_type": "code",
      "execution_count": 3,
      "metadata": {},
      "outputs": [
        {
          "name": "stdout",
          "output_type": "stream",
          "text": [
            "(17184, 5002)\n",
            "(4296, 5001)\n",
            "(21480, 5000)\n",
            "(17184, 5000)\n",
            "(4296, 5000)\n"
          ]
        }
      ],
      "source": [
        "print(df_train.shape)\n",
        "print(df_test.shape)\n",
        "\n",
        "df_train_dropped=df_train.drop(['id','label'], axis=1);\n",
        "df_y=df_train['label'];\n",
        "df_test_dropped = df_test.drop(['id'], axis=1);\n",
        "df_X=pd.concat([df_train_dropped,df_test_dropped]);\n",
        "print(df_X.shape)\n",
        "print(df_train_dropped.shape)\n",
        "print(df_test_dropped.shape)\n",
        "\n",
        "X=df_X.to_numpy();\n",
        "y=df_y.to_numpy();\n",
        "\n",
        "\n"
      ]
    },
    {
      "cell_type": "code",
      "execution_count": 7,
      "metadata": {},
      "outputs": [
        {
          "name": "stdout",
          "output_type": "stream",
          "text": [
            "(21480, 100)\n",
            "(17184, 100)\n",
            "(4296, 100)\n"
          ]
        }
      ],
      "source": [
        "pca = PCA(n_components=100)\n",
        "X_embedded = pca.fit_transform(X)\n",
        "print(X_embedded.shape)\n",
        "pd.DataFrame(X_embedded)\n",
        "\n",
        "X_embedded_train = X_embedded[:17184]\n",
        "X_embedded_test = X_embedded[17184:]\n",
        "\n"
      ]
    }
  ],
  "metadata": {
    "kernelspec": {
      "display_name": "Python 3.10.5 64-bit",
      "language": "python",
      "name": "python3"
    },
    "language_info": {
      "codemirror_mode": {
        "name": "ipython",
        "version": 3
      },
      "file_extension": ".py",
      "mimetype": "text/x-python",
      "name": "python",
      "nbconvert_exporter": "python",
      "pygments_lexer": "ipython3",
      "version": "3.10.5"
    },
    "vscode": {
      "interpreter": {
        "hash": "6cd04f83b62147083ad2379b53fd411988a943220ab0b1d1df224914b1237beb"
      }
    }
  },
  "nbformat": 4,
  "nbformat_minor": 0
}
