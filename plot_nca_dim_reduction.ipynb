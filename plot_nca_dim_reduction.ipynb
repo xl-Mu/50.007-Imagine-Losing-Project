{
  "cells": [
    {
      "cell_type": "code",
      "execution_count": 2,
      "metadata": {
        "collapsed": false
      },
      "outputs": [],
      "source": [
        "%matplotlib inline"
      ]
    },
    {
      "cell_type": "markdown",
      "metadata": {},
      "source": [
        "\n",
        "# Dimensionality Reduction with Neighborhood Components Analysis\n",
        "\n",
        "Sample usage of Neighborhood Components Analysis for dimensionality reduction.\n",
        "\n",
        "This example compares different (linear) dimensionality reduction methods\n",
        "applied on the Digits data set. The data set contains images of digits from\n",
        "0 to 9 with approximately 180 samples of each class. Each image is of\n",
        "dimension 8x8 = 64, and is reduced to a two-dimensional data point.\n",
        "\n",
        "Principal Component Analysis (PCA) applied to this data identifies the\n",
        "combination of attributes (principal components, or directions in the\n",
        "feature space) that account for the most variance in the data. Here we\n",
        "plot the different samples on the 2 first principal components.\n",
        "\n",
        "Linear Discriminant Analysis (LDA) tries to identify attributes that\n",
        "account for the most variance *between classes*. In particular,\n",
        "LDA, in contrast to PCA, is a supervised method, using known class labels.\n",
        "\n",
        "Neighborhood Components Analysis (NCA) tries to find a feature space such\n",
        "that a stochastic nearest neighbor algorithm will give the best accuracy.\n",
        "Like LDA, it is a supervised method.\n",
        "\n",
        "One can see that NCA enforces a clustering of the data that is visually\n",
        "meaningful despite the large reduction in dimension.\n"
      ]
    },
    {
      "cell_type": "code",
      "execution_count": 3,
      "metadata": {},
      "outputs": [],
      "source": [
        "import numpy as np\n",
        "import pandas as pd\n",
        "import matplotlib.pyplot as plt\n",
        "from sklearn import datasets\n",
        "from sklearn.model_selection import train_test_split\n",
        "from sklearn.decomposition import PCA\n",
        "from sklearn.discriminant_analysis import LinearDiscriminantAnalysis\n",
        "from sklearn.neighbors import KNeighborsClassifier, NeighborhoodComponentsAnalysis\n",
        "from sklearn.pipeline import make_pipeline\n",
        "from sklearn.preprocessing import StandardScaler"
      ]
    },
    {
      "cell_type": "code",
      "execution_count": 4,
      "metadata": {},
      "outputs": [
        {
          "name": "stdout",
          "output_type": "stream",
          "text": [
            "[[0. 0. 0. ... 0. 0. 0.]\n",
            " [0. 0. 0. ... 0. 0. 0.]\n",
            " [0. 0. 0. ... 0. 0. 0.]\n",
            " ...\n",
            " [0. 0. 0. ... 0. 0. 0.]\n",
            " [0. 0. 0. ... 0. 0. 0.]\n",
            " [0. 0. 0. ... 0. 0. 0.]]\n",
            "[0 0 1 ... 1 0 1]\n",
            "5000 8592\n"
          ]
        }
      ],
      "source": [
        "# Load dataset\n",
        "df_train=pd.read_csv('../csv/train_tfidf_features.csv');\n",
        "df_test=pd.read_csv('../csv/test_tfidf_features.csv');\n",
        "df_X=df_train.drop(['id','label'], axis=1);\n",
        "df_y=df_train['label'];\n",
        "X=df_X.to_numpy();\n",
        "y=df_y.to_numpy();\n",
        "\n",
        "# # Split into train/test\n",
        "X_train, X_test, y_train, y_test = train_test_split(\n",
        "    X, y, test_size=0.5, stratify=y, random_state=random_state\n",
        ")\n",
        "\n",
        "print(X_train)\n",
        "print(y_train)"
      ]
    },
    {
      "cell_type": "code",
      "execution_count": 7,
      "metadata": {
        "collapsed": false
      },
      "outputs": [
        {
          "data": {
            "image/png": "[encoded data removed]",
            "text/plain": [
              "<Figure size 432x288 with 1 Axes>"
            ]
          },
          "metadata": {
            "needs_background": "light"
          },
          "output_type": "display_data"
        }
      ],
      "source": [
        "n_neighbors = 2\n",
        "random_state = 0\n",
        "\n",
        "dim = len(X[0])\n",
        "n_classes = len(np.unique(y))\n",
        "\n",
        "# Reduce dimension to 2 with PCA\n",
        "pca = make_pipeline(StandardScaler(), PCA(n_components=4000, random_state=random_state))\n",
        "\n",
        "# Use a nearest neighbor classifier to evaluate the methods\n",
        "knn = KNeighborsClassifier(n_neighbors=n_neighbors)\n",
        "\n",
        "# plt.figure()\n",
        "plt.figure()\n",
        "# plt.subplot(1, 3, i + 1, aspect=1)\n",
        "\n",
        "# Fit the method's model\n",
        "pca.fit(X_train, y_train)\n",
        "\n",
        "# Fit a nearest neighbor classifier on the embedded training set\n",
        "knn.fit(pca.transform(X_train), y_train)\n",
        "\n",
        "# Compute the nearest neighbor accuracy on the embedded test set\n",
        "acc_knn = knn.score(pca.transform(X_test), y_test)\n",
        "\n",
        "# Embed the data set in 2 dimensions using the fitted model\n",
        "X_embedded = pca.transform(X)\n",
        "\n",
        "# Plot the projected points and show the evaluation score\n",
        "plt.scatter(X_embedded[:, 0], X_embedded[:, 1], c=y, s=30, cmap=\"Set1\")\n",
        "plt.title(\n",
        "    \"{}, KNN (k={})\\nTest accuracy = {:.2f}\".format('PCA', n_neighbors, acc_knn)\n",
        ")\n",
        "plt.show()\n"
      ]
    }
  ],
  "metadata": {
    "kernelspec": {
      "display_name": "Python 3.10.5 64-bit (windows store)",
      "language": "python",
      "name": "python3"
    },
    "language_info": {
      "codemirror_mode": {
        "name": "ipython",
        "version": 3
      },
      "file_extension": ".py",
      "mimetype": "text/x-python",
      "name": "python",
      "nbconvert_exporter": "python",
      "pygments_lexer": "ipython3",
      "version": "3.10.5"
    },
    "vscode": {
      "interpreter": {
        "hash": "8f6829e325472c7dc43a04a1a2a89a926f1541ca339a90a4ccf18c20d76fe3b4"
      }
    }
  },
  "nbformat": 4,
  "nbformat_minor": 0
}
