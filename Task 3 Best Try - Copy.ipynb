{
 "cells": [
  {
   "cell_type": "code",
   "execution_count": 7,
   "source": [
    "from sklearn import svm\n",
    "from sklearn.model_selection import train_test_split, GridSearchCV\n",
    "from sklearn.linear_model import LogisticRegression\n",
    "from sklearn.metrics import f1_score\n",
    "from sklearn.feature_selection import SelectFromModel\n",
    "from sklearn.metrics import classification_report\n",
    "from sklearn.metrics import accuracy_score\n",
    "from sklearn.svm import LinearSVC\n",
    "from sklearn.ensemble import RandomForestClassifier, GradientBoostingClassifier\n",
    "from sklearn.naive_bayes import GaussianNB\n",
    "from sklearn.naive_bayes import MultinomialNB\n",
    "import pandas as pd\n",
    "import numpy as np\n",
    "from sklearn.decomposition import PCA\n",
    "from sklearn.preprocessing import normalize, StandardScaler,MinMaxScaler\n",
    "\n"
   ],
   "outputs": [],
   "metadata": {}
  },
  {
   "cell_type": "code",
   "execution_count": 8,
   "source": [
    "# Load dataset\n",
    "df_train=pd.read_csv('csv/train_tfidf_features.csv');\n",
    "df_test=pd.read_csv('csv/test_tfidf_features.csv');\n",
    "\n",
    "df_train_dropped=df_train.drop(['id','label'], axis=1);\n",
    "df_y=df_train['label'];\n",
    "df_test_dropped = df_test.drop(['id'], axis=1);\n",
    "df_X=pd.concat([df_train_dropped,df_test_dropped]);\n",
    "print(df_X.shape)\n",
    "print(df_train_dropped.shape)\n",
    "print(df_test_dropped.shape)\n",
    "\n",
    "X=df_X.to_numpy()\n",
    "y=df_y.to_numpy()\n"
   ],
   "outputs": [
    {
     "output_type": "stream",
     "name": "stdout",
     "text": [
      "(21480, 5000)\n",
      "(17184, 5000)\n",
      "(4296, 5000)\n"
     ]
    }
   ],
   "metadata": {}
  },
  {
   "cell_type": "code",
   "execution_count": 9,
   "source": [
    "X = normalize(X,axis=1)"
   ],
   "outputs": [],
   "metadata": {}
  },
  {
   "cell_type": "code",
   "execution_count": 13,
   "source": [
    "\n",
    "pca = PCA(n_components=2000)\n",
    "X_embedded = pca.fit_transform(X)\n",
    "X_embedded_train = X_embedded[:17184]\n",
    "X_embedded_test = X_embedded[17184:]\n",
    "X_train, X_test, y_train, y_test = train_test_split(\n",
    "    X_embedded_train, y, test_size=0.5, stratify=y, random_state=0\n",
    ")\n",
    "\n",
    "\n",
    "\n",
    "clf = svm.SVC(class_weight='balanced', kernel = 'linear')\n",
    "clf.fit(X_embedded_train, y)\n",
    "\n",
    "\n",
    "y_preds = clf.predict(X_test)\n",
    "\n",
    "print(f1_score(y_train, y_preds))\n",
    "print(f1_score(y_test, y_preds))\n",
    "\n",
    "acc = accuracy_score(y_test, y_preds)\n",
    "print(acc)\n",
    "\n",
    "#output = pd.DataFrame(clf.predict(X_embedded_test)).set_index(df_test[\"id\"])\n",
    "\n",
    "#output\n",
    "#output.to_csv(\"outputPCASVM.csv\")\n"
   ],
   "outputs": [
    {
     "output_type": "stream",
     "name": "stdout",
     "text": [
      "0.3918647951876253\n",
      "0.7222460965477725\n",
      "0.7743249534450651\n"
     ]
    }
   ],
   "metadata": {}
  },
  {
   "cell_type": "code",
   "execution_count": null,
   "source": [],
   "outputs": [],
   "metadata": {}
  }
 ],
 "metadata": {
  "kernelspec": {
   "name": "python3",
   "display_name": "Python 3.8.3 64-bit ('base': conda)"
  },
  "language_info": {
   "codemirror_mode": {
    "name": "ipython",
    "version": 3
   },
   "file_extension": ".py",
   "mimetype": "text/x-python",
   "name": "python",
   "nbconvert_exporter": "python",
   "pygments_lexer": "ipython3",
   "version": "3.8.3"
  },
  "orig_nbformat": 4,
  "vscode": {
   "interpreter": {
    "hash": "6141e40b349aed8c22b4fce3c3e0cc734c09cda48ff42d4660798c4bbfc54dc9"
   }
  },
  "interpreter": {
   "hash": "dca0ade3e726a953b501b15e8e990130d2b7799f14cfd9f4271676035ebe5511"
  }
 },
 "nbformat": 4,
 "nbformat_minor": 2
}