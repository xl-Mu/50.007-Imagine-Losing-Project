{
 "cells": [
  {
   "cell_type": "code",
   "execution_count": 1,
   "metadata": {},
   "outputs": [],
   "source": [
    "from sklearn import svm\n",
    "from sklearn.model_selection import train_test_split\n",
    "from sklearn.preprocessing import normalize\n",
    "from sklearn.model_selection import GridSearchCV\n",
    "from sklearn.pipeline import Pipeline\n",
    "from sklearn.preprocessing import StandardScaler, MinMaxScaler\n",
    "from sklearn.decomposition import PCA\n",
    "from sklearn.ensemble import GradientBoostingClassifier\n",
    "from sklearn.feature_extraction.text import TfidfVectorizer\n",
    "from sklearn.gaussian_process import GaussianProcessClassifier"
   ]
  },
  {
   "cell_type": "code",
   "execution_count": 2,
   "metadata": {},
   "outputs": [],
   "source": [
    "import telebot\n",
    "bot = telebot.TeleBot(token=\"5436169433:AAG6B8ejgqrMy8klWdH5_o_5zFzgoTjK4N4\")\n",
    "chat_id = 1241494706"
   ]
  },
  {
   "cell_type": "code",
   "execution_count": 3,
   "metadata": {},
   "outputs": [
    {
     "name": "stdout",
     "output_type": "stream",
     "text": [
      "importing Jupyter notebook from plot_nca_dim_reduction.ipynb\n",
      "(17184, 5002)\n",
      "(4296, 5001)\n",
      "(21480, 5000)\n",
      "(17184, 5000)\n",
      "(4296, 5000)\n"
     ]
    }
   ],
   "source": [
    "import import_ipynb\n",
    "from plot_nca_dim_reduction import *"
   ]
  },
  {
   "cell_type": "code",
   "execution_count": 4,
   "metadata": {},
   "outputs": [
    {
     "data": {
      "text/plain": [
       "<telebot.types.Message at 0x1fd10725810>"
      ]
     },
     "execution_count": 4,
     "metadata": {},
     "output_type": "execute_result"
    }
   ],
   "source": [
    "# X = normalize(X)\n",
    "# pca = PCA(n_components=100)\n",
    "# X_embedded = pca.fit_transform(X)\n",
    "# print(X_embedded.shape)\n",
    "# pd.DataFrame(X_embedded)\n",
    "# X=TfidfVectorizer().fit_transform(X)\n",
    "\n",
    "X_embedded_train = X[:17184]\n",
    "X_embedded_test = X[17184:]\n",
    "bot.send_message(chat_id, \"Reached here\")\n",
    "\n"
   ]
  },
  {
   "cell_type": "code",
   "execution_count": 5,
   "metadata": {},
   "outputs": [
    {
     "data": {
      "text/html": [
       "<style>#sk-container-id-1 {color: black;background-color: white;}#sk-container-id-1 pre{padding: 0;}#sk-container-id-1 div.sk-toggleable {background-color: white;}#sk-container-id-1 label.sk-toggleable__label {cursor: pointer;display: block;width: 100%;margin-bottom: 0;padding: 0.3em;box-sizing: border-box;text-align: center;}#sk-container-id-1 label.sk-toggleable__label-arrow:before {content: \"▸\";float: left;margin-right: 0.25em;color: #696969;}#sk-container-id-1 label.sk-toggleable__label-arrow:hover:before {color: black;}#sk-container-id-1 div.sk-estimator:hover label.sk-toggleable__label-arrow:before {color: black;}#sk-container-id-1 div.sk-toggleable__content {max-height: 0;max-width: 0;overflow: hidden;text-align: left;background-color: #f0f8ff;}#sk-container-id-1 div.sk-toggleable__content pre {margin: 0.2em;color: black;border-radius: 0.25em;background-color: #f0f8ff;}#sk-container-id-1 input.sk-toggleable__control:checked~div.sk-toggleable__content {max-height: 200px;max-width: 100%;overflow: auto;}#sk-container-id-1 input.sk-toggleable__control:checked~label.sk-toggleable__label-arrow:before {content: \"▾\";}#sk-container-id-1 div.sk-estimator input.sk-toggleable__control:checked~label.sk-toggleable__label {background-color: #d4ebff;}#sk-container-id-1 div.sk-label input.sk-toggleable__control:checked~label.sk-toggleable__label {background-color: #d4ebff;}#sk-container-id-1 input.sk-hidden--visually {border: 0;clip: rect(1px 1px 1px 1px);clip: rect(1px, 1px, 1px, 1px);height: 1px;margin: -1px;overflow: hidden;padding: 0;position: absolute;width: 1px;}#sk-container-id-1 div.sk-estimator {font-family: monospace;background-color: #f0f8ff;border: 1px dotted black;border-radius: 0.25em;box-sizing: border-box;margin-bottom: 0.5em;}#sk-container-id-1 div.sk-estimator:hover {background-color: #d4ebff;}#sk-container-id-1 div.sk-parallel-item::after {content: \"\";width: 100%;border-bottom: 1px solid gray;flex-grow: 1;}#sk-container-id-1 div.sk-label:hover label.sk-toggleable__label {background-color: #d4ebff;}#sk-container-id-1 div.sk-serial::before {content: \"\";position: absolute;border-left: 1px solid gray;box-sizing: border-box;top: 0;bottom: 0;left: 50%;z-index: 0;}#sk-container-id-1 div.sk-serial {display: flex;flex-direction: column;align-items: center;background-color: white;padding-right: 0.2em;padding-left: 0.2em;position: relative;}#sk-container-id-1 div.sk-item {position: relative;z-index: 1;}#sk-container-id-1 div.sk-parallel {display: flex;align-items: stretch;justify-content: center;background-color: white;position: relative;}#sk-container-id-1 div.sk-item::before, #sk-container-id-1 div.sk-parallel-item::before {content: \"\";position: absolute;border-left: 1px solid gray;box-sizing: border-box;top: 0;bottom: 0;left: 50%;z-index: -1;}#sk-container-id-1 div.sk-parallel-item {display: flex;flex-direction: column;z-index: 1;position: relative;background-color: white;}#sk-container-id-1 div.sk-parallel-item:first-child::after {align-self: flex-end;width: 50%;}#sk-container-id-1 div.sk-parallel-item:last-child::after {align-self: flex-start;width: 50%;}#sk-container-id-1 div.sk-parallel-item:only-child::after {width: 0;}#sk-container-id-1 div.sk-dashed-wrapped {border: 1px dashed gray;margin: 0 0.4em 0.5em 0.4em;box-sizing: border-box;padding-bottom: 0.4em;background-color: white;}#sk-container-id-1 div.sk-label label {font-family: monospace;font-weight: bold;display: inline-block;line-height: 1.2em;}#sk-container-id-1 div.sk-label-container {text-align: center;}#sk-container-id-1 div.sk-container {/* jupyter's `normalize.less` sets `[hidden] { display: none; }` but bootstrap.min.css set `[hidden] { display: none !important; }` so we also need the `!important` here to be able to override the default hidden behavior on the sphinx rendered scikit-learn.org. See: https://github.com/scikit-learn/scikit-learn/issues/21755 */display: inline-block !important;position: relative;}#sk-container-id-1 div.sk-text-repr-fallback {display: none;}</style><div id=\"sk-container-id-1\" class=\"sk-top-container\"><div class=\"sk-text-repr-fallback\"><pre>Pipeline(steps=[(&#x27;pca&#x27;, PCA(n_components=2000)), (&#x27;scaler&#x27;, StandardScaler()),\n",
       "                (&#x27;gpr&#x27;, GaussianProcessClassifier(random_state=0))])</pre><b>In a Jupyter environment, please rerun this cell to show the HTML representation or trust the notebook. <br />On GitHub, the HTML representation is unable to render, please try loading this page with nbviewer.org.</b></div><div class=\"sk-container\" hidden><div class=\"sk-item sk-dashed-wrapped\"><div class=\"sk-label-container\"><div class=\"sk-label sk-toggleable\"><input class=\"sk-toggleable__control sk-hidden--visually\" id=\"sk-estimator-id-1\" type=\"checkbox\" ><label for=\"sk-estimator-id-1\" class=\"sk-toggleable__label sk-toggleable__label-arrow\">Pipeline</label><div class=\"sk-toggleable__content\"><pre>Pipeline(steps=[(&#x27;pca&#x27;, PCA(n_components=2000)), (&#x27;scaler&#x27;, StandardScaler()),\n",
       "                (&#x27;gpr&#x27;, GaussianProcessClassifier(random_state=0))])</pre></div></div></div><div class=\"sk-serial\"><div class=\"sk-item\"><div class=\"sk-estimator sk-toggleable\"><input class=\"sk-toggleable__control sk-hidden--visually\" id=\"sk-estimator-id-2\" type=\"checkbox\" ><label for=\"sk-estimator-id-2\" class=\"sk-toggleable__label sk-toggleable__label-arrow\">PCA</label><div class=\"sk-toggleable__content\"><pre>PCA(n_components=2000)</pre></div></div></div><div class=\"sk-item\"><div class=\"sk-estimator sk-toggleable\"><input class=\"sk-toggleable__control sk-hidden--visually\" id=\"sk-estimator-id-3\" type=\"checkbox\" ><label for=\"sk-estimator-id-3\" class=\"sk-toggleable__label sk-toggleable__label-arrow\">StandardScaler</label><div class=\"sk-toggleable__content\"><pre>StandardScaler()</pre></div></div></div><div class=\"sk-item\"><div class=\"sk-estimator sk-toggleable\"><input class=\"sk-toggleable__control sk-hidden--visually\" id=\"sk-estimator-id-4\" type=\"checkbox\" ><label for=\"sk-estimator-id-4\" class=\"sk-toggleable__label sk-toggleable__label-arrow\">GaussianProcessClassifier</label><div class=\"sk-toggleable__content\"><pre>GaussianProcessClassifier(random_state=0)</pre></div></div></div></div></div></div></div>"
      ],
      "text/plain": [
       "Pipeline(steps=[('pca', PCA(n_components=2000)), ('scaler', StandardScaler()),\n",
       "                ('gpr', GaussianProcessClassifier(random_state=0))])"
      ]
     },
     "execution_count": 5,
     "metadata": {},
     "output_type": "execute_result"
    }
   ],
   "source": [
    "\n",
    "X_train, X_test, y_train, y_test = train_test_split(\n",
    "    X_embedded_train, y, test_size=0.5, stratify=y, random_state=0\n",
    ")\n",
    "# parameters = {'kernel':('linear', 'rbf', 'poly', 'sigmoid'), 'C':[1, 10]}\n",
    "\n",
    "# svc = svm.SVC()\n",
    "# parameters = {'kernel':('linear', 'rbf'), 'C':[1, 10]}\n",
    "# clf = GridSearchCV(svc, parameters)\n",
    "# clf.fit(X_train, y_train)\n",
    "\n",
    "\n",
    "\n",
    "scaler = MinMaxScaler()\n",
    "pca = PCA(n_components=2000)\n",
    "svc = svm.SVC(C=1, gamma=\"scale\")\n",
    "\n",
    "\n",
    "search = Pipeline(steps=[ (\"pca\", pca), (\"scaler\", scaler), (\"svc\", svc)])\n",
    "\n",
    "# param_grid = {\n",
    "#     \"svc__C\": [5,10,1],\n",
    "#     \"svc__gamma\": [0.01,0.1,1,\"auto\",\"scale\"],\n",
    "    \n",
    "# }\n",
    "\n",
    "# search = GridSearchCV(pipe, param_grid, n_jobs=4)\n",
    "search.fit(X_train, y_train)\n",
    "# print(search.best_params_)\n",
    "# {'svc__C': 1, 'svc__gamma': 'scale'}\n",
    "\n",
    "\n",
    "\n",
    "\n",
    "\n",
    "\n",
    "\n",
    "\n",
    "scaler = StandardScaler()\n",
    "pca = PCA(n_components=2000)\n",
    "gpr = GaussianProcessClassifier(random_state=0)\n",
    "\n",
    "\n",
    "pipe = Pipeline(steps=[(\"pca\", pca), (\"scaler\", scaler), (\"gpr\", gpr)])\n",
    "\n",
    "# param_grid = {\n",
    "#     \"pca__n_components\": [100, 500, 1000, 2000],\n",
    "#     \"gbc__n_estimators\": [50,100,200],\n",
    "#     \"gbc__learning_rate\": [1,0.1,0.01],\n",
    "#     \"gbc__max_depth\": [1,2,3],\n",
    "    \n",
    "# }\n",
    "# {'gbc__learning_rate': 0.1, 'gbc__max_depth': 3, 'gbc__n_estimators': 200, 'pca__n_components': 2000}\n",
    "\n",
    "# search = GridSearchCV(pipe, param_grid, n_jobs=-1)\n",
    "pipe.fit(X_train, y_train)\n",
    "# # print(search.best_params_)\n",
    "\n",
    "\n",
    "\n",
    "\n",
    "# scaler = StandardScaler()\n",
    "# pca = PCA(n_components=2000)\n",
    "# gbc = GradientBoostingClassifier(n_estimators=200, learning_rate=0.1, max_depth=3, random_state=0)\n",
    "\n",
    "\n",
    "# pipe1 = Pipeline(steps=[(\"scaler\", scaler), (\"pca\", pca), (\"gbc\", gbc)])\n",
    "\n",
    "# param_grid = {\n",
    "# #     \"pca__n_components\": [100, 500, 1000, 2000],\n",
    "# #     \"gbc__n_estimators\": [50,100,200],\n",
    "# #     \"gbc__learning_rate\": [1,0.1,0.01],\n",
    "# #     \"gbc__max_depth\": [1,2,3],\n",
    "    \n",
    "# # }\n",
    "# # {'gbc__learning_rate': 0.1, 'gbc__max_depth': 3, 'gbc__n_estimators': 200, 'pca__n_components': 2000}\n",
    "\n",
    "# # search = GridSearchCV(pipe, param_grid, n_jobs=-1)\n",
    "# pipe1.fit(X_embedded_train, y)\n",
    "# # # print(search.best_params_)\n",
    "\n",
    "\n",
    "\n",
    "\n",
    "\n",
    "\n",
    "\n",
    "\n",
    "\n",
    "\n",
    "\n",
    "\n",
    "\n",
    "\n",
    "# output = pd.DataFrame(clf.predict(X_embedded_test)).set_index(df_test[\"id\"])\n",
    "\n",
    "# output\n",
    "# output.to_csv(\"outputPCA.csv\")\n",
    "# print(clf.score(X_test, y_test))\n",
    "# # ensemble \n",
    "\n"
   ]
  },
  {
   "cell_type": "code",
   "execution_count": 6,
   "metadata": {},
   "outputs": [
    {
     "ename": "NameError",
     "evalue": "name 'f1' is not defined",
     "output_type": "error",
     "traceback": [
      "\u001b[1;31m---------------------------------------------------------------------------\u001b[0m",
      "\u001b[1;31mNameError\u001b[0m                                 Traceback (most recent call last)",
      "\u001b[1;32md:\\RandomGits\\50.007-Imagine-Losing-Project\\Task3_SVM.ipynb Cell 6\u001b[0m in \u001b[0;36m<cell line: 9>\u001b[1;34m()\u001b[0m\n\u001b[0;32m      <a href='vscode-notebook-cell:/d%3A/RandomGits/50.007-Imagine-Losing-Project/Task3_SVM.ipynb#ch0000004?line=5'>6</a>\u001b[0m acc2 \u001b[39m=\u001b[39m accuracy_score(y_test, pipe\u001b[39m.\u001b[39mpredict(X_test))\n\u001b[0;32m      <a href='vscode-notebook-cell:/d%3A/RandomGits/50.007-Imagine-Losing-Project/Task3_SVM.ipynb#ch0000004?line=7'>8</a>\u001b[0m bot\u001b[39m.\u001b[39msend_message(chat_id, \u001b[39mf\u001b[39m\u001b[39m\"\"\"\u001b[39m\u001b[39mTraining Complete\u001b[39m\u001b[39m\\n\u001b[39;00m\u001b[39mSVM\u001b[39m\u001b[39m\\n\u001b[39;00m\u001b[39m\\t\u001b[39;00m\u001b[39mAccuracy: \u001b[39m\u001b[39m{\u001b[39;00macc1\u001b[39m}\u001b[39;00m\u001b[39m\\n\u001b[39;00m\u001b[39m\\t\u001b[39;00m\u001b[39mF1 Score: \u001b[39m\u001b[39m{\u001b[39;00mf11\u001b[39m}\u001b[39;00m\u001b[39m\\n\u001b[39;00m\u001b[39m\\n\u001b[39;00m\u001b[39mGPR\u001b[39m\u001b[39m\\n\u001b[39;00m\u001b[39m\\t\u001b[39;00m\u001b[39mAccuracy: \u001b[39m\u001b[39m{\u001b[39;00macc2\u001b[39m}\u001b[39;00m\u001b[39m\\n\u001b[39;00m\u001b[39m\\t\u001b[39;00m\u001b[39mF1 Score: \u001b[39m\u001b[39m{\u001b[39;00mf12\u001b[39m}\u001b[39;00m\u001b[39m\"\"\"\u001b[39m)\n\u001b[1;32m----> <a href='vscode-notebook-cell:/d%3A/RandomGits/50.007-Imagine-Losing-Project/Task3_SVM.ipynb#ch0000004?line=8'>9</a>\u001b[0m \u001b[39mprint\u001b[39m(f1)\n\u001b[0;32m     <a href='vscode-notebook-cell:/d%3A/RandomGits/50.007-Imagine-Losing-Project/Task3_SVM.ipynb#ch0000004?line=9'>10</a>\u001b[0m \u001b[39mprint\u001b[39m(acc)\n",
      "\u001b[1;31mNameError\u001b[0m: name 'f1' is not defined"
     ]
    }
   ],
   "source": [
    "from sklearn.metrics import accuracy_score, f1_score\n",
    "f11 = f1_score(y_test, search.predict(X_test))\n",
    "acc1 = accuracy_score(y_test, search.predict(X_test))\n",
    "\n",
    "f12 = f1_score(y_test, pipe.predict(X_test))\n",
    "acc2 = accuracy_score(y_test, pipe.predict(X_test))\n",
    "\n",
    "bot.send_message(chat_id, f\"\"\"Training Complete\\nSVM\\n\\tAccuracy: {acc1}\\n\\tF1 Score: {f11}\\n\\nGPR\\n\\tAccuracy: {acc2}\\n\\tF1 Score: {f12}\"\"\")\n",
    "print(f1)\n",
    "print(acc)"
   ]
  },
  {
   "cell_type": "code",
   "execution_count": null,
   "metadata": {},
   "outputs": [],
   "source": [
    "# print(search.best_params_)"
   ]
  },
  {
   "cell_type": "code",
   "execution_count": null,
   "metadata": {},
   "outputs": [],
   "source": [
    "# output = pd.DataFrame(pipe1.predict(X_embedded_test)).set_index(df_test[\"id\"])\n",
    "\n",
    "# output\n",
    "# output.to_csv(\"outputSCL_GCB.csv\")\n",
    "# print(pipe1.score(X_test, y_test))"
   ]
  },
  {
   "cell_type": "code",
   "execution_count": null,
   "metadata": {},
   "outputs": [],
   "source": []
  }
 ],
 "metadata": {
  "kernelspec": {
   "display_name": "Python 3.10.5 64-bit",
   "language": "python",
   "name": "python3"
  },
  "language_info": {
   "codemirror_mode": {
    "name": "ipython",
    "version": 3
   },
   "file_extension": ".py",
   "mimetype": "text/x-python",
   "name": "python",
   "nbconvert_exporter": "python",
   "pygments_lexer": "ipython3",
   "version": "3.10.5"
  },
  "orig_nbformat": 4,
  "vscode": {
   "interpreter": {
    "hash": "6cd04f83b62147083ad2379b53fd411988a943220ab0b1d1df224914b1237beb"
   }
  }
 },
 "nbformat": 4,
 "nbformat_minor": 2
}
